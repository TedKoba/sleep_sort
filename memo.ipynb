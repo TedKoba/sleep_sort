{
 "cells": [
  {
   "cell_type": "code",
   "execution_count": 12,
   "metadata": {},
   "outputs": [],
   "source": [
    "from time import sleep\n",
    "from multiprocessing import Pool\n",
    "\n",
    "class sleep_sort:\n",
    "    def __init__(self):\n",
    "        self.ordered_list = []\n",
    "    \n",
    "    def sort(self, n):\n",
    "        sleep(n)\n",
    "        print(n)\n",
    "        try:\n",
    "            self.ordered_list.append(n)\n",
    "        except:\n",
    "            print('error')\n",
    "        \n",
    "    def get_sorted(self,items):\n",
    "        self.items = items\n",
    "        pool = Pool(len(self.items))\n",
    "        print(self.items)\n",
    "        pool.map(self.sort, self.items)\n",
    "        pool.close()\n",
    "        pool.join()"
   ]
  },
  {
   "cell_type": "code",
   "execution_count": 13,
   "metadata": {},
   "outputs": [
    {
     "name": "stdout",
     "output_type": "stream",
     "text": [
      "[4, 2, 3, 1, 2, 4]\n",
      "1\n",
      "2\n",
      "2\n",
      "3\n",
      "4\n",
      "4\n"
     ]
    }
   ],
   "source": [
    "sort = sleep_sort()\n",
    "sort.get_sorted([4,2,3,1,2,4])"
   ]
  },
  {
   "cell_type": "code",
   "execution_count": 10,
   "metadata": {},
   "outputs": [
    {
     "name": "stdout",
     "output_type": "stream",
     "text": [
      "before =  [30, 34, 31, 35, 37, 32, 39, 33, 36, 38]\n",
      "after =  [30, 31, 32, 33, 34, 35, 36, 37, 38, 39]\n",
      "time = 3.906 seconds\n"
     ]
    }
   ],
   "source": [
    "#https://helloacm.com/sleep-sorting-in-python-using-threads/\n",
    "#rewrite in python3\n",
    "import threading\n",
    "import time\n",
    "import random\n",
    "\n",
    "_lk = threading.Lock()\n",
    "_ar = []\n",
    "\n",
    "class SleepSortThread(threading.Thread):\n",
    "\n",
    "    # constructor\n",
    "    def __init__(self, val):\n",
    "        self.val = val\n",
    "        threading.Thread.__init__(self)        \n",
    "\n",
    "    # thread entry\n",
    "    def run(self):\n",
    "        global _lk, _ar\n",
    "        # sleep corresponding interval\n",
    "        time.sleep(self.val * 0.1)\n",
    "        # lock before append\n",
    "        _lk.acquire()\n",
    "        _ar.append(self.val)\n",
    "        _lk.release()\n",
    "\n",
    "def SleepSort(x):\n",
    "    global _ar    \n",
    "    ts = []\n",
    "    # create threads\n",
    "    for i in x:\n",
    "        t = SleepSortThread(i)\n",
    "        ts.append(t)\n",
    "\n",
    "    # start threads\n",
    "    for i in ts:\n",
    "        i.start()\n",
    "\n",
    "    # wait till all finished\n",
    "    for i in ts:\n",
    "        i.join()\n",
    "\n",
    "    # return sorted array\n",
    "    return _ar\n",
    "\n",
    "if __name__ == \"__main__\":    \n",
    "    x = [i for i in range(30, 40)]\n",
    "    random.shuffle(x)\n",
    "    print(\"before = \", x)\n",
    "    t1 = time.time()\n",
    "    x = SleepSort(x)\n",
    "    t2 = time.time() - t1\n",
    "    print(\"after = \", x)\n",
    "    print(\"time = %.3f seconds\" % t2)"
   ]
  }
 ],
 "metadata": {
  "kernelspec": {
   "display_name": "Python 3",
   "language": "python",
   "name": "python3"
  },
  "language_info": {
   "codemirror_mode": {
    "name": "ipython",
    "version": 3
   },
   "file_extension": ".py",
   "mimetype": "text/x-python",
   "name": "python",
   "nbconvert_exporter": "python",
   "pygments_lexer": "ipython3",
   "version": "3.6.2"
  }
 },
 "nbformat": 4,
 "nbformat_minor": 2
}
